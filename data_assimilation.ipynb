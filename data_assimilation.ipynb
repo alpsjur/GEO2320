{
 "cells": [
  {
   "cell_type": "code",
   "execution_count": 1,
   "metadata": {},
   "outputs": [],
   "source": [
    "%matplotlib inline\n",
    "import numpy as np\n",
    "from matplotlib import pyplot as plt"
   ]
  },
  {
   "cell_type": "markdown",
   "metadata": {},
   "source": [
    "# Scalar data assimilation\n",
    "## Concepts\n",
    "The following example uses our temperature measurements from room 2414 in the KB building to estimate the average temperature in the room. We operate with four(!) different expressions for the temperature: \n",
    "\n",
    "1. $T_t$ - the _true_ average temperature, which we will never know!\n",
    "1. $T_m$ - the modeled average temperature, which we obtain from some kind of model (to be detailed later on).\n",
    "1. $T_o$ - the observed temperature, using a combination of readings from our different thermometers. \n",
    "1. $T_a$ - the analysed temperature, which is a combination of the model and observations.\n",
    "\n",
    "We require that the **observations and the model are free from biases**. The so-called analysis equation is\n",
    "\n",
    "$$T_a = T_m + K(T_o - T_m),$$\n",
    "\n",
    "with \n",
    "\n",
    "$$K = \\frac{e_m^2}{e_m^2 + e_o^2}.$$\n",
    "\n",
    "Here $e_m^2 = <(T_m-T_t)^2>$ and $e_o^2 = <(T_o-T_t)^2>$ are the expected model and observation error variances, i.e. the notation \"$<\\,\\,\\,>$\" implies an averaging procedure. Recall that we require that the **observation errors and model errors are uncorrelated**. Think about this statement. We do not say that the observations and the model have to be completely unrelated, we just say that their errors cannot have mutual dependencies. Also, since we do not know the true average temperature $T_t$, we will need to estimate the errors. \n",
    "\n",
    "\n",
    "\n",
    "## Procedure\n",
    "What we have done so far: \n",
    "\n",
    "1. We have made simultaneous measurements $T_i$ with all instruments for the purpose of intercalibration, \n",
    "1. we have made temperature readings with all instruments placed in different places in the room, and \n",
    "1. we have received no feedback from the technical dept., hence we have really no idea how the room temperature is controlled through the ventilation system, and have no objective information on which we can build a model for the average room temperature. \n",
    "\n",
    "We will now \n",
    "\n",
    "1. start with intercalibrating the thermometers and correcting the readings, \n",
    "1. devise observation error estimates, \n",
    "1. present a model, with an associated model error, \n",
    "1. insert all the values we need into the analysis equation, and, finally\n",
    "1. calculate the analysis error."
   ]
  },
  {
   "cell_type": "code",
   "execution_count": 2,
   "metadata": {},
   "outputs": [],
   "source": [
    "# Intercalibration readings\n",
    "T_i_uncalibrated = [20.2, 20.2, 19.0, 19.5]\n",
    "T_i_avg = np.mean(T_i_uncalibrated) # Mean of readings\n",
    "T_bias = T_i_uncalibrated - T_i_avg # The bias is here defined as the deviation from the average \n",
    "\n",
    "# Correcting the readings made in the different parts of the room\n",
    "T_o_uncalibrated = [20.6, 20.4, 20.0, 19.5]\n",
    "T_o_calibrated = T_o_uncalibrated - T_bias\n",
    "\n",
    "# Calculating the bias-corrected observation average\n",
    "T_o = np.average(T_o_calibrated)"
   ]
  },
  {
   "cell_type": "markdown",
   "metadata": {},
   "source": [
    "## Observation error\n",
    "The observation error consists of two parts. The first part, the instrument error, $e_{oi}$, is easy to understand, but for us rather hard to estimate. This is simply the error in the measurement due to hardware and/or operator error, which should properly be checked comparing with a very high quality thermometer. We haven't got such high quality thermometer, hence we will simply have to make a qualified guess. Typically, a cheap thermometer has a resolution of 1 degree, and we can e.g. assume that the instrument error is about half of that, especially if the person reading off the values is nearing his fifties and not wearing his reading glasses. \n",
    "\n",
    "The most interesting error is the so-called representation error, $e_{or}$. Recall that we want to know the average temperature in the room. If we put our thermometers in awkward places, e.g. close to the door or the windows, on the floor etc., we wouldn't expect the readings to be representative for the average room temperature, regardless of the quality of the thermometer. The model simply cannot represent the more complex processes observed by the instrument. \n",
    "\n",
    "How can we estimate the representation error, then? Since we have several readings, we can take their standard deviation and use that. What we are doing is so-called \"super-obing\". We have strictly speaking more observations than we need - the observations have higher resolution than the model - and when we average them we get a better handle on the representation error. The use of super-obing is not uncommon in real-world data assimilative forecasting systems. The opposite situation, when the observations have lower resolution than the model, is called \"super-modding\". Then model values are averaged (e.g. over several grid cells) before comparison with the observations. One example is SST observed using satellites with passive microwave sensors, which typically have very coarse spatial resolution, but on the positive side have the ability to penetrate the cloud cover.  "
   ]
  },
  {
   "cell_type": "code",
   "execution_count": 3,
   "metadata": {},
   "outputs": [],
   "source": [
    "# Instrument error\n",
    "e_oi = 0.5\n",
    "\n",
    "# Representation error\n",
    "e_or = np.std(T_o_calibrated)\n",
    "\n",
    "# Combined error variance\n",
    "e_o2 = (e_oi + e_or)**2 "
   ]
  },
  {
   "cell_type": "markdown",
   "metadata": {},
   "source": [
    "## Model and model error\n",
    "The model proposed here is to simply to assume that the temperature is constant, and to find the value of this constant we take the average of the bias-corrected readings we took for intercalibration. The motivation for this choice is that \n",
    "\n",
    "1. we have no independent information about how the room temperature is regulated, \n",
    "1. the intercalibration readings were made approximately in the middle of the room, and hence (hopefully) provide a reasonable representation of the room average, and\n",
    "1. the readings were made independently of the readings that will be used in the analysis equation.\n",
    "\n",
    "Now we need to find a model error estimate. Depending on the weather and the season, I suppose it is reasonable to assume that the temperature will vary within a range of 4-5 degrees, say. Assuming that we have happily selected a model that is bias free, the model error would then be up to 2.5 degrees."
   ]
  },
  {
   "cell_type": "code",
   "execution_count": 4,
   "metadata": {},
   "outputs": [],
   "source": [
    "# Model\n",
    "T_m = T_i_avg\n",
    "\n",
    "# Model error variance\n",
    "e_m2 = 2.5**2"
   ]
  },
  {
   "cell_type": "markdown",
   "metadata": {},
   "source": [
    "## Analysis and analysis error\n",
    "It now remains to insert the observation and model values and errors into the analysis equation. Also, recall that the analysis equation can be used to estimate the analysis error:\n",
    "\n",
    "$$e_a^2 = (1-K)^2 e_m^2 + K^2 e_o^2.$$\n",
    "\n",
    "After all, the value of $K$ is obtained requiring\n",
    "\n",
    "$$\\frac{d e_a^2}{dK} = 0,$$\n",
    "\n",
    "since we then have a minimum in the analysis error."
   ]
  },
  {
   "cell_type": "code",
   "execution_count": 5,
   "metadata": {},
   "outputs": [
    {
     "name": "stdout",
     "output_type": "stream",
     "text": [
      "The modeled average room temperature is 19.725 C.\n",
      "The observed average room temperature is 20.125 C.\n",
      "The analysed average room temperature is 20.081 C.\n",
      "The analysis error is 0.825 C.\n"
     ]
    }
   ],
   "source": [
    "# Analysis\n",
    "K = e_m2/(e_m2 + e_o2)\n",
    "T_a = T_m + K*(T_o - T_m)\n",
    "e_a2 = ((1-K)**2)*e_m2 + (K**2)*e_o2\n",
    "\n",
    "# Output\n",
    "print('The modeled average room temperature is %5.3f C.' % T_m)\n",
    "print('The observed average room temperature is %5.3f C.' % T_o)\n",
    "print('The analysed average room temperature is %5.3f C.' % T_a)\n",
    "print('The analysis error is %5.3f C.' % np.sqrt(e_a2))"
   ]
  },
  {
   "cell_type": "markdown",
   "metadata": {},
   "source": [
    "## Discussion points\n",
    "\n",
    "1. Is the model bias free?\n",
    "1. Is the observation bias free?\n",
    "1. Are the model and observation errors uncorrelated? \n",
    "1. Is the estimate of the instrument error reasonable?"
   ]
  },
  {
   "cell_type": "markdown",
   "metadata": {},
   "source": []
  }
 ],
 "metadata": {
  "kernelspec": {
   "display_name": "base",
   "language": "python",
   "name": "python3"
  },
  "language_info": {
   "codemirror_mode": {
    "name": "ipython",
    "version": 3
   },
   "file_extension": ".py",
   "mimetype": "text/x-python",
   "name": "python",
   "nbconvert_exporter": "python",
   "pygments_lexer": "ipython3",
   "version": "3.9.15"
  },
  "orig_nbformat": 4
 },
 "nbformat": 4,
 "nbformat_minor": 2
}
